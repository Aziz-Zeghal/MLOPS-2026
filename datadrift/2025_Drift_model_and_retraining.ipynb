{
  "cells": [
    {
      "cell_type": "markdown",
      "metadata": {},
      "source": [
        "## Imports"
      ]
    },
    {
      "cell_type": "code",
      "execution_count": null,
      "metadata": {},
      "outputs": [],
      "source": [
        "import matplotlib.pyplot as plt\n",
        "import numpy as np\n",
        "import pandas as pd\n",
        "import seaborn as sns\n",
        "import tensorflow as tf\n",
        "from eurybia import SmartDrift\n",
        "from sklearn.model_selection import train_test_split\n",
        "from sklearn.preprocessing import LabelEncoder, MinMaxScaler\n",
        "from tensorflow.keras.datasets import cifar10\n",
        "from tensorflow.keras.layers import (\n",
        "    BatchNormalization,\n",
        "    Conv2D,\n",
        "    Dense,\n",
        "    Dropout,\n",
        "    Flatten,\n",
        "    GlobalMaxPooling2D,\n",
        "    Input,\n",
        "    InputLayer,\n",
        "    MaxPooling2D,\n",
        "    Reshape,\n",
        ")\n",
        "from tensorflow.keras.models import Model, Sequential"
      ]
    },
    {
      "cell_type": "code",
      "execution_count": 33,
      "metadata": {},
      "outputs": [
        {
          "name": "stdout",
          "output_type": "stream",
          "text": [
            "Num GPUs Available:  1\n"
          ]
        }
      ],
      "source": [
        "# Check if gpu is detected\n",
        "print(\"Num GPUs Available: \", len(tf.config.list_physical_devices('GPU')))"
      ]
    },
    {
      "cell_type": "code",
      "execution_count": 34,
      "metadata": {},
      "outputs": [],
      "source": [
        "DATA_PATH = \"data/\"\n",
        "OUTPUT_PATH = \"output/\""
      ]
    },
    {
      "cell_type": "markdown",
      "metadata": {
        "id": "LA_QTG8vFs8E"
      },
      "source": [
        "# Modèle en production\n",
        "\n",
        "Laurent Cetinsoy - Datadidacte\n",
        "\n",
        "Une des supposition centrale pour qu'un modèle de machine learning marche est que la distribution des données ne diffère pas de celle des données d'entrainement.\n",
        "\n",
        "On ne peut garantir la généralisation d'un modèle que si la distribution des données est similaire à celle de la distribution $ X_{prod} \\tilde{} \\,  P_{train}$\n",
        "\n",
        "Ainsi, si les données que le modèle voient en production n'ont pas la même distribution (ne ressemblent pas) aux données de train, alors le modèle aura peu de chance de faire de bonne prédictions.\n",
        "\n",
        "Il est donc important de surveille les données vues par le modèle en production.\n",
        "\n",
        "Pour cela on va mesurer ce qu'on appelle le Data drift : on va mesurer à quel point les données s'écartent des données de train.\n",
        "\n",
        "Et on pourra ainsi lever une alerte si c'est le cas."
      ]
    },
    {
      "cell_type": "markdown",
      "metadata": {
        "id": "GEHFqy-yFs8K"
      },
      "source": [
        "## Utilisation Eurybia\n"
      ]
    },
    {
      "cell_type": "markdown",
      "metadata": {
        "id": "g7Cr8DVyFs8N"
      },
      "source": [
        "\n",
        "En consultant la documentation de Eurybia (https://eurybia.readthedocs.io/en/latest/overview.html), expliquer le principe de fonctionnement de Eurybia :\n",
        "\n",
        "- A quoi sert le modèle de classification ?\n",
        "- A-t-on besoin d’avoir les labels issus de la production pour pouvoir utiliser cette approche ?\n",
        "- Quel est le critère pour déterminer qu’il y a un data-drift ?\n"
      ]
    },
    {
      "cell_type": "markdown",
      "metadata": {},
      "source": [
        "<span style=\"color:green\">Answer:</span>\n",
        "- Le modèle de classification permet de détecter les changements dans la distribution des données en comparant les données de production avec les données d'entraînement.\n",
        "- Non, les labels ne sont pas nécessaire, puisque pour ce modèle, le label est l'origine des données (train ou prod).\n",
        "- Le critère est la performance du modèle de classification, on l'évalue avec l'AUC (Area Under the Curve) et si elle est supérieure à un certain seuil (ici 0.5), on considère qu'il y a un data drift."
      ]
    },
    {
      "cell_type": "markdown",
      "metadata": {
        "id": "fAn3sAA7Fs8W"
      },
      "source": [
        "Installer eurybia"
      ]
    },
    {
      "cell_type": "markdown",
      "metadata": {},
      "source": [
        "<span style=\"color:green\">\n",
        "    Done\n",
        "</span>"
      ]
    },
    {
      "cell_type": "markdown",
      "metadata": {
        "id": "S6qFJUvoFs8e"
      },
      "source": [
        "Utiliser eurybia pour monitorer la distribution des données. Dans un premier temps faire en sorte que les données de prod (df_current) soient de la même distribution que vos données d’entraînement. Pour cela vous pouvez split le dataset en deux et décider que l'un est X_train et l'autre est X_prod. Vérifier que Eurybia pense que le modèle ne drift pas. Attention à ne pas inclure le label (qui serait ici price)\n",
        "\n"
      ]
    },
    {
      "cell_type": "code",
      "execution_count": 35,
      "metadata": {},
      "outputs": [
        {
          "data": {
            "text/html": [
              "<div>\n",
              "<style scoped>\n",
              "    .dataframe tbody tr th:only-of-type {\n",
              "        vertical-align: middle;\n",
              "    }\n",
              "\n",
              "    .dataframe tbody tr th {\n",
              "        vertical-align: top;\n",
              "    }\n",
              "\n",
              "    .dataframe thead th {\n",
              "        text-align: right;\n",
              "    }\n",
              "</style>\n",
              "<table border=\"1\" class=\"dataframe\">\n",
              "  <thead>\n",
              "    <tr style=\"text-align: right;\">\n",
              "      <th></th>\n",
              "      <th>size</th>\n",
              "      <th>nb_rooms</th>\n",
              "      <th>garden</th>\n",
              "      <th>orientation</th>\n",
              "      <th>price</th>\n",
              "    </tr>\n",
              "  </thead>\n",
              "  <tbody>\n",
              "    <tr>\n",
              "      <th>0</th>\n",
              "      <td>215.775096</td>\n",
              "      <td>1</td>\n",
              "      <td>0</td>\n",
              "      <td>Ouest</td>\n",
              "      <td>243048.717637</td>\n",
              "    </tr>\n",
              "    <tr>\n",
              "      <th>1</th>\n",
              "      <td>247.064976</td>\n",
              "      <td>2</td>\n",
              "      <td>0</td>\n",
              "      <td>Nord</td>\n",
              "      <td>248116.081979</td>\n",
              "    </tr>\n",
              "    <tr>\n",
              "      <th>2</th>\n",
              "      <td>134.107329</td>\n",
              "      <td>2</td>\n",
              "      <td>1</td>\n",
              "      <td>Ouest</td>\n",
              "      <td>291773.127311</td>\n",
              "    </tr>\n",
              "    <tr>\n",
              "      <th>3</th>\n",
              "      <td>196.242198</td>\n",
              "      <td>3</td>\n",
              "      <td>1</td>\n",
              "      <td>Ouest</td>\n",
              "      <td>328799.458161</td>\n",
              "    </tr>\n",
              "    <tr>\n",
              "      <th>4</th>\n",
              "      <td>154.396906</td>\n",
              "      <td>1</td>\n",
              "      <td>1</td>\n",
              "      <td>Est</td>\n",
              "      <td>274069.213761</td>\n",
              "    </tr>\n",
              "  </tbody>\n",
              "</table>\n",
              "</div>"
            ],
            "text/plain": [
              "         size  nb_rooms  garden orientation          price\n",
              "0  215.775096         1       0       Ouest  243048.717637\n",
              "1  247.064976         2       0        Nord  248116.081979\n",
              "2  134.107329         2       1       Ouest  291773.127311\n",
              "3  196.242198         3       1       Ouest  328799.458161\n",
              "4  154.396906         1       1         Est  274069.213761"
            ]
          },
          "execution_count": 35,
          "metadata": {},
          "output_type": "execute_result"
        }
      ],
      "source": [
        "df_current = pd.read_csv(f\"{DATA_PATH}/houses_2024.csv\")\n",
        "df_copy = df_current.copy()\n",
        "\n",
        "df_current.head()"
      ]
    },
    {
      "cell_type": "code",
      "execution_count": 36,
      "metadata": {},
      "outputs": [],
      "source": [
        "lb = LabelEncoder()\n",
        "df_current[\"orientation\"] = lb.fit_transform(df_current[\"orientation\"])"
      ]
    },
    {
      "cell_type": "code",
      "execution_count": 37,
      "metadata": {},
      "outputs": [
        {
          "data": {
            "image/png": "[encoded data removed]",
            "text/plain": [
              "<Figure size 500x400 with 2 Axes>"
            ]
          },
          "metadata": {},
          "output_type": "display_data"
        }
      ],
      "source": [
        "cor_table = df_current.corr()\n",
        "\n",
        "plt.figure(figsize=(5, 4))\n",
        "sns.heatmap(cor_table, annot=True, cmap=\"coolwarm\", fmt=\".2f\")\n",
        "plt.show()"
      ]
    },
    {
      "cell_type": "markdown",
      "metadata": {},
      "source": [
        "### Without drift"
      ]
    },
    {
      "cell_type": "code",
      "execution_count": 38,
      "metadata": {
        "id": "_TjazQyrFs8i"
      },
      "outputs": [
        {
          "data": {
            "text/plain": [
              "((400, 5), (400, 5))"
            ]
          },
          "execution_count": 38,
          "metadata": {},
          "output_type": "execute_result"
        }
      ],
      "source": [
        "# Cut in half the current data to simulate production data\n",
        "X_train, X_prod = train_test_split(df_copy, test_size=0.5, random_state=42)\n",
        "\n",
        "X_train.shape, X_prod.shape"
      ]
    },
    {
      "cell_type": "markdown",
      "metadata": {},
      "source": [
        "#### Eurybia"
      ]
    },
    {
      "cell_type": "code",
      "execution_count": 39,
      "metadata": {},
      "outputs": [],
      "source": [
        "sd  = SmartDrift(\n",
        "    df_current=X_prod,\n",
        "    df_baseline=X_train,\n",
        "    encoding=lb,\n",
        "    dataset_names={\"df_current\": \"Production data\", \"df_baseline\": \"Training data\"},\n",
        ")"
      ]
    },
    {
      "cell_type": "code",
      "execution_count": 40,
      "metadata": {},
      "outputs": [
        {
          "name": "stdout",
          "output_type": "stream",
          "text": [
            "The following variables are manually set to be ignored in the analysis: \n",
            " ['price']\n"
          ]
        },
        {
          "name": "stdout",
          "output_type": "stream",
          "text": [
            "INFO: Shap explainer type - <shap.explainers._tree.TreeExplainer object at 0x7b3973066400>\n"
          ]
        }
      ],
      "source": [
        "sd.compile(\n",
        "    ignore_cols=[\"price\"]\n",
        ")"
      ]
    },
    {
      "cell_type": "code",
      "execution_count": 41,
      "metadata": {},
      "outputs": [
        {
          "data": {
            "text/markdown": [
              "App saved to ./output//drift_report_no_drift.html"
            ],
            "text/plain": [
              "<IPython.core.display.Markdown object>"
            ]
          },
          "metadata": {},
          "output_type": "display_data"
        }
      ],
      "source": [
        "sd.generate_report(\n",
        "    output_file=f\"{OUTPUT_PATH}/drift_report_no_drift.html\",\n",
        "    title_story=\"Data Drift Report - No Drift\",\n",
        "    \n",
        ")"
      ]
    },
    {
      "cell_type": "markdown",
      "metadata": {
        "id": "bpbUJGhzFs8m"
      },
      "source": [
        "Faire en sorte d'introduire un drift dans vos données. Par exemple (méthode assez bourine) ajouter +1 à la colonne nb_rooms. Relancer eurybia et vérifier que la performance du modèle est bonne et qu'il y a donc un datadrift"
      ]
    },
    {
      "cell_type": "markdown",
      "metadata": {},
      "source": [
        "<span style=\"color:green\">\n",
        "    0.7 of AUC\n",
        "</span>"
      ]
    },
    {
      "cell_type": "code",
      "execution_count": 42,
      "metadata": {
        "id": "6pyIJbu5Fs8n"
      },
      "outputs": [],
      "source": [
        "# We change the prod data\n",
        "X_prod[[\"nb_rooms\"]] += 1"
      ]
    },
    {
      "cell_type": "code",
      "execution_count": 43,
      "metadata": {},
      "outputs": [
        {
          "name": "stdout",
          "output_type": "stream",
          "text": [
            "The following variables are manually set to be ignored in the analysis: \n",
            " ['price']\n",
            "INFO: Shap explainer type - <shap.explainers._tree.TreeExplainer object at 0x7b3973697c70>\n"
          ]
        }
      ],
      "source": [
        "sd = SmartDrift(\n",
        "    df_current=X_prod,\n",
        "    df_baseline=X_train,\n",
        "    encoding=lb,\n",
        "    dataset_names={\"df_current\": \"Production data\", \"df_baseline\": \"Training data\"},\n",
        ")\n",
        "\n",
        "sd.compile(ignore_cols=[\"price\"])"
      ]
    },
    {
      "cell_type": "code",
      "execution_count": 44,
      "metadata": {},
      "outputs": [
        {
          "data": {
            "text/markdown": [
              "App saved to ./output//drift_report_drift.html"
            ],
            "text/plain": [
              "<IPython.core.display.Markdown object>"
            ]
          },
          "metadata": {},
          "output_type": "display_data"
        }
      ],
      "source": [
        "sd.generate_report(\n",
        "    output_file=f\"{OUTPUT_PATH}/drift_report_drift.html\",\n",
        "    title_story=\"Data Drift Report - With Drift\",\n",
        ")"
      ]
    },
    {
      "cell_type": "markdown",
      "metadata": {
        "id": "Jjw1gk8D2BeS"
      },
      "source": [
        "Faire en sorte de faire un drift plus subtile mais remarquable. Eurybia est-il détectable avec Eurybia ?"
      ]
    },
    {
      "cell_type": "markdown",
      "metadata": {},
      "source": [
        "<span style=\"color:green\">\n",
        "    0.48 or 0.52 of AUC\n",
        "</span>"
      ]
    },
    {
      "cell_type": "code",
      "execution_count": 45,
      "metadata": {
        "id": "Mpl-Zc4Y2BOj"
      },
      "outputs": [],
      "source": [
        "# Introduce a subtle drift by slightly increasing the 'size' column in X_train\n",
        "X_train, X_prod = train_test_split(df_copy, test_size=0.5, random_state=42)\n",
        "# Increase size by 7%\n",
        "X_train[\"size\"] = X_train[\"size\"] * 1.07"
      ]
    },
    {
      "cell_type": "code",
      "execution_count": 46,
      "metadata": {},
      "outputs": [
        {
          "name": "stdout",
          "output_type": "stream",
          "text": [
            "The following variables are manually set to be ignored in the analysis: \n",
            " ['price']\n",
            "INFO: Shap explainer type - <shap.explainers._tree.TreeExplainer object at 0x7b39b3cca5e0>\n"
          ]
        }
      ],
      "source": [
        "sd = SmartDrift(\n",
        "    df_current=X_prod,\n",
        "    df_baseline=X_train,\n",
        "    encoding=lb,\n",
        "    dataset_names={\"df_current\": \"Production data\", \"df_baseline\": \"Training data\"},\n",
        ")\n",
        "\n",
        "sd.compile(ignore_cols=[\"price\"])"
      ]
    },
    {
      "cell_type": "code",
      "execution_count": 47,
      "metadata": {},
      "outputs": [
        {
          "data": {
            "text/markdown": [
              "App saved to ./output//drift_report_subtle_drift.html"
            ],
            "text/plain": [
              "<IPython.core.display.Markdown object>"
            ]
          },
          "metadata": {},
          "output_type": "display_data"
        }
      ],
      "source": [
        "sd.generate_report(\n",
        "    output_file=f\"{OUTPUT_PATH}/drift_report_subtle_drift.html\",\n",
        "    title_story=\"Data Drift Report - With subtle Drift\",\n",
        ")"
      ]
    },
    {
      "cell_type": "markdown",
      "metadata": {
        "id": "NYnareE4Fs8o"
      },
      "source": [
        "## Alibaba detect\n",
        "\n",
        "Dans cette partie on va utiliser la librairie https://github.com/SeldonIO/alibi-detect pour faire la détection de problèmes\n",
        "Installer la librairie avec pip"
      ]
    },
    {
      "cell_type": "markdown",
      "metadata": {},
      "source": [
        "<span style=\"color:green\">\n",
        "    Done\n",
        "</span>\n",
        "\n",
        "Source: [CIFAR-10 Image Classification in TensorFlow](https://www.geeksforgeeks.org/deep-learning/cifar-10-image-classification-in-tensorflow/)"
      ]
    },
    {
      "cell_type": "markdown",
      "metadata": {
        "id": "bJvFD2xrFs8r"
      },
      "source": [
        "Charger le jeu de donnée cifar10 avec keras et récupérer le train et le test puis,\n",
        "\n",
        "Normaliser les données de train en faisant un MinMaxScaling (diviser par 255)"
      ]
    },
    {
      "cell_type": "code",
      "execution_count": 48,
      "metadata": {
        "id": "X90oWx5AFs8v"
      },
      "outputs": [
        {
          "data": {
            "text/plain": [
              "((50000, 32, 32, 3), (50000, 1), (10000, 32, 32, 3), (10000, 1))"
            ]
          },
          "execution_count": 48,
          "metadata": {},
          "output_type": "execute_result"
        }
      ],
      "source": [
        "(x_train, y_train), (x_test, y_test) = cifar10.load_data()\n",
        "x_train.shape, y_train.shape, x_test.shape, y_test.shape"
      ]
    },
    {
      "cell_type": "code",
      "execution_count": 49,
      "metadata": {},
      "outputs": [],
      "source": [
        "# Reduce pixel values\n",
        "x_train, x_test = x_train / 255.0, x_test / 255.0\n",
        "\n",
        "# flatten the label values\n",
        "y_train, y_test = y_train.flatten(), y_test.flatten()"
      ]
    },
    {
      "cell_type": "markdown",
      "metadata": {
        "id": "45x7yftfFs8w"
      },
      "source": [
        "Dans le sous package alibi_detect.datasets importer les  fonction fetch_cifar10c et corruption_types_cifar10c"
      ]
    },
    {
      "cell_type": "code",
      "execution_count": 50,
      "metadata": {
        "id": "6u6Pp8x9Fs80"
      },
      "outputs": [],
      "source": [
        "from alibi_detect.datasets import corruption_types_cifar10c, fetch_cifar10c"
      ]
    },
    {
      "cell_type": "markdown",
      "metadata": {
        "id": "KH81nEs_Fs82"
      },
      "source": [
        "Afficher les types de corruption de données disponible avec la fonction corruption_types_cifar10c"
      ]
    },
    {
      "cell_type": "code",
      "execution_count": 51,
      "metadata": {
        "id": "OH0zp3fbFs84"
      },
      "outputs": [
        {
          "data": {
            "text/plain": [
              "['brightness',\n",
              " 'contrast',\n",
              " 'defocus_blur',\n",
              " 'elastic_transform',\n",
              " 'fog',\n",
              " 'frost',\n",
              " 'gaussian_blur',\n",
              " 'gaussian_noise',\n",
              " 'glass_blur',\n",
              " 'impulse_noise',\n",
              " 'jpeg_compression',\n",
              " 'motion_blur',\n",
              " 'pixelate',\n",
              " 'saturate',\n",
              " 'shot_noise',\n",
              " 'snow',\n",
              " 'spatter',\n",
              " 'speckle_noise',\n",
              " 'zoom_blur']"
            ]
          },
          "execution_count": 51,
          "metadata": {},
          "output_type": "execute_result"
        }
      ],
      "source": [
        "corruption_types_cifar10c()"
      ]
    },
    {
      "cell_type": "markdown",
      "metadata": {
        "id": "HDTT-67yFs86"
      },
      "source": [
        "Avec la fonction fetch_cifar10c récupérer des exemples corrompus de donnée ressemblant à cifar 10 et les stocker dans des variable X_corrupted et y_corrupted.\n",
        "\n",
        "Vous choisirez 1 ou 2 corruptions parmis les suivantes : ['gaussian_noise', 'motion_blur', 'brightness', 'pixelate']\n",
        "\n",
        "Vous spécifirez les argument severity=5 et return_X_y=True\n",
        "attention le dataset peut être lourd si vous utilisez bcp de corruptions"
      ]
    },
    {
      "cell_type": "code",
      "execution_count": 52,
      "metadata": {
        "id": "o8SL8z_TFs8-"
      },
      "outputs": [],
      "source": [
        "# Fetch corrupted CIFAR-10 data with 'gaussian_noise' and 'brightness' corruptions\n",
        "X_corrupted, y_corrupted = fetch_cifar10c(\n",
        "    corruption=['gaussian_noise', 'brightness'],\n",
        "    severity=5,\n",
        "    return_X_y=True\n",
        ")"
      ]
    },
    {
      "cell_type": "markdown",
      "metadata": {
        "id": "Ilj7rn6aFs8_"
      },
      "source": [
        "Normaliser les images corrompues"
      ]
    },
    {
      "cell_type": "code",
      "execution_count": 53,
      "metadata": {
        "id": "tS0CR6e5Fs9B"
      },
      "outputs": [],
      "source": [
        "# Normaliser les images corrompues entre 0 et 1\n",
        "X_corrupted = X_corrupted / 255.0"
      ]
    },
    {
      "cell_type": "markdown",
      "metadata": {
        "id": "h_mTwk7yFs9B"
      },
      "source": [
        "Afficher plusieurs des images corrompues."
      ]
    },
    {
      "cell_type": "code",
      "execution_count": 54,
      "metadata": {
        "id": "yHmjeAywFs9C"
      },
      "outputs": [
        {
          "data": {
            "image/png": "[encoded data removed]",
            "text/plain": [
              "<Figure size 1000x400 with 10 Axes>"
            ]
          },
          "metadata": {},
          "output_type": "display_data"
        }
      ],
      "source": [
        "# Afficher plusieurs images corrompues\n",
        "plt.figure(figsize=(10, 4))\n",
        "for i in range(10):\n",
        "    plt.subplot(2, 5, i + 1)\n",
        "    plt.imshow(X_corrupted[i])\n",
        "    plt.axis('off')\n",
        "    plt.title(f\"Label: {y_corrupted[i]}\")\n",
        "plt.tight_layout()\n",
        "plt.show()"
      ]
    },
    {
      "cell_type": "markdown",
      "metadata": {
        "id": "Bev6XyQZFs9D"
      },
      "source": [
        "On va maintenant prendre un modèle entraîné sur cifar10 pour voir l'impact des performances sur le modèle.\n",
        "\n",
        "Avec la fonction  fetch_tf_model du module alibi_detect.utils.fetching, charger le modèle préentraîné resnet32 sur cifar10\n"
      ]
    },
    {
      "cell_type": "code",
      "execution_count": 55,
      "metadata": {
        "id": "WOkVyhy2Fs9G"
      },
      "outputs": [],
      "source": [
        "from alibi_detect.utils.fetching import fetch_detector, fetch_tf_model\n",
        "\n",
        "dataset = 'cifar10'\n",
        "model_name = 'resnet32'\n",
        "model = fetch_tf_model(dataset, model_name)"
      ]
    },
    {
      "cell_type": "markdown",
      "metadata": {
        "id": "PSVWdspmFs9K"
      },
      "source": [
        "Calculer la performance du model sur le jeu de train et de test"
      ]
    },
    {
      "cell_type": "code",
      "execution_count": 56,
      "metadata": {
        "id": "IyBxvmGaFs9M"
      },
      "outputs": [
        {
          "name": "stderr",
          "output_type": "stream",
          "text": [
            "2025-09-25 11:28:00.947743: W tensorflow/core/framework/cpu_allocator_impl.cc:82] Allocation of 614400000 exceeds 10% of free system memory.\n"
          ]
        },
        {
          "name": "stdout",
          "output_type": "stream",
          "text": [
            "Train accuracy: 0.6163\n",
            "Test accuracy: 0.6043\n"
          ]
        }
      ],
      "source": [
        "train_loss, train_acc = model.evaluate(x_train, y_train, verbose=0)\n",
        "test_loss, test_acc = model.evaluate(x_test, y_test, verbose=0)\n",
        "\n",
        "print(f\"Train accuracy: {train_acc:.4f}\")\n",
        "print(f\"Test accuracy: {test_acc:.4f}\")"
      ]
    },
    {
      "cell_type": "markdown",
      "metadata": {
        "id": "7SG82jqxFs9N"
      },
      "source": [
        "Calculer la performance du modèle sur le jeu de donnée corrompu. Vous devriez observer qu'il chute significativement"
      ]
    },
    {
      "cell_type": "code",
      "execution_count": 57,
      "metadata": {
        "id": "KWux1w8EFs9P"
      },
      "outputs": [
        {
          "name": "stdout",
          "output_type": "stream",
          "text": [
            "Corrupted data accuracy: 0.3684\n",
            "Corrupted data loss: 4.5535\n"
          ]
        }
      ],
      "source": [
        "corrupted_loss, corrupted_acc = model.evaluate(X_corrupted, y_corrupted, verbose=0)\n",
        "print(f\"Corrupted data accuracy: {corrupted_acc:.4f}\")\n",
        "print(f\"Corrupted data loss: {corrupted_loss:.4f}\")"
      ]
    },
    {
      "cell_type": "markdown",
      "metadata": {
        "id": "RT9bns5tFs9Q"
      },
      "source": [
        "On va maintenant voir comment détecter les changement de distributions de données.\n",
        "\n",
        "Pour les données non tabulaire ou à haute dimension on procéde généralement en deux étapes :\n",
        "\n",
        "1. Faire une réduction de dimension\n",
        "2. Faire un test permettant de voir si les données projetées ont changé de distribution ou pas\n",
        "\n",
        "Il existe plusieurs manières de faire de la réduction de dimension. La plus classique est la PCA.\n",
        "\n",
        "Il est possible également d'utiliser des Auto-encoder\n",
        "\n",
        "Le code suivant permet de créer la première partie (l'encoder) d'un auto-encoder simple qui nous servira à réduire les dimension des données."
      ]
    },
    {
      "cell_type": "code",
      "execution_count": 58,
      "metadata": {
        "id": "ZBJao1RXFs9R"
      },
      "outputs": [],
      "source": [
        "from functools import partial\n",
        "\n",
        "from alibi_detect.cd.tensorflow import preprocess_drift\n",
        "\n",
        "tf.random.set_seed(0)\n",
        "\n",
        "# define encoder\n",
        "encoding_dim = 32\n",
        "encoder_net = tf.keras.Sequential(\n",
        "  [\n",
        "      InputLayer(input_shape=(32, 32, 3)),\n",
        "      Conv2D(64, 4, strides=2, padding='same', activation=tf.nn.relu),\n",
        "      Conv2D(128, 4, strides=2, padding='same', activation=tf.nn.relu),\n",
        "      Conv2D(512, 4, strides=2, padding='same', activation=tf.nn.relu),\n",
        "      Flatten(),\n",
        "      Dense(encoding_dim,)\n",
        "  ]\n",
        ")"
      ]
    },
    {
      "cell_type": "markdown",
      "metadata": {
        "id": "mH4ZehyHFs9S"
      },
      "source": [
        "Le drift detector a besoin d'une donnée de référence afin d'effectuer la comparaison avec les données à monitorer.\n",
        "Créer une variable X_ref avec un échantillon aléatoire des données de test"
      ]
    },
    {
      "cell_type": "code",
      "execution_count": 59,
      "metadata": {
        "id": "Kk6euJipFs9T"
      },
      "outputs": [],
      "source": [
        "# 1000 random samples from the test set as reference data\n",
        "X_ref = x_test[np.random.choice(x_test.shape[0], 1000, replace=False)]"
      ]
    },
    {
      "cell_type": "markdown",
      "metadata": {
        "id": "2ZrtwSr4Fs9Z"
      },
      "source": [
        "A quoi sert le test statistique kolmogorov smirnoff ?"
      ]
    },
    {
      "cell_type": "markdown",
      "metadata": {},
      "source": [
        "<span style=\"color:green\">\n",
        "    Answer:\n",
        "</span>\n",
        "\n",
        "Le test statistique de Kolmogorov-Smirnov (KS) permet de comparer la distribution d'un échantillon à une distribution de référence (test univarié), ou de comparer deux échantillons entre eux.\n",
        "\n",
        "Il mesure la distance maximale entre les fonctions de répartition cumulée des deux distributions. Il sert à détecter si les deux distributions sont significativement différentes, ce qui est utile pour identifier un changement de distribution (data drift) dans les données."
      ]
    },
    {
      "cell_type": "markdown",
      "metadata": {
        "id": "pXatEJZOFs9f"
      },
      "source": [
        "Instancier la classe KSDrift dans une variable nommée **detector**\n",
        "\n",
        "Il faut lui passer le dataset de reference, une p value (prendre 0.05) et une fonction permettant de faire le preprocessing. On a créé la fonction pour vous\n"
      ]
    },
    {
      "cell_type": "code",
      "execution_count": 60,
      "metadata": {
        "id": "epmDLfAfFs9i"
      },
      "outputs": [],
      "source": [
        "from alibi_detect.cd import KSDrift\n",
        "from alibi_detect.cd.tensorflow import preprocess_drift\n",
        "\n",
        "preprocess_function = partial(preprocess_drift, model=encoder_net, batch_size=32)\n",
        "\n",
        "detector = KSDrift(X_ref, p_val=0.05, preprocess_fn=preprocess_function)"
      ]
    },
    {
      "cell_type": "markdown",
      "metadata": {
        "id": "zUSKpqulFs9k"
      },
      "source": [
        "A laide du Drift detector et la méthode predict faire des prediction sur les données de test et sur les données corrompue pour voir si il détecte un changement de distribution"
      ]
    },
    {
      "cell_type": "code",
      "execution_count": 61,
      "metadata": {
        "id": "yfaYUukjFs9o",
        "vscode": {
          "languageId": "ruby"
        }
      },
      "outputs": [
        {
          "name": "stdout",
          "output_type": "stream",
          "text": [
            "Test set drift detected: 0\n",
            "Corrupted set drift detected: 1\n",
            "Test set p-value: [0.81401676 0.91225654 0.67775637 0.61678153 0.905648   0.8317434\n",
            " 0.98138875 0.9489451  0.7429408  0.3284949  0.9465199  0.41686502\n",
            " 0.22703719 0.49373934 0.6828284  0.8651292  0.80492824 0.82295835\n",
            " 0.10772128 0.94402766 0.34740046 0.98138875 0.31749153 0.8488057\n",
            " 0.63708544 0.9773985  0.9787876  0.70808095 0.25996068 0.47968906\n",
            " 0.98138875 0.6016118 ]\n",
            "Corrupted set p-value: [3.2789069e-29 3.0417378e-23 8.7357420e-16 1.9992679e-06 5.1170452e-03\n",
            " 0.0000000e+00 0.0000000e+00 0.0000000e+00 7.4994523e-39 2.9162696e-01\n",
            " 2.5185581e-14 0.0000000e+00 2.6466954e-14 4.8506255e-03 1.3406048e-08\n",
            " 0.0000000e+00 0.0000000e+00 4.4702720e-02 9.2513584e-02 2.2037193e-06\n",
            " 0.0000000e+00 6.3815632e-16 1.8445717e-01 1.2198057e-01 2.6219611e-03\n",
            " 2.4770192e-40 6.4347625e-42 8.6600245e-43 7.8455424e-01 1.3304797e-01\n",
            " 3.4480549e-02 1.1137468e-24]\n"
          ]
        }
      ],
      "source": [
        "# Use the drift detector to predict on test and corrupted data\n",
        "result_test = detector.predict(x_test)\n",
        "result_corrupted = detector.predict(X_corrupted)\n",
        "\n",
        "print(\"Test set drift detected:\", result_test['data']['is_drift']) # type: ignore\n",
        "print(\"Corrupted set drift detected:\", result_corrupted['data']['is_drift']) # type: ignore\n",
        "print(\"Test set p-value:\", result_test['data']['p_val'])\n",
        "print(\"Corrupted set p-value:\", result_corrupted['data']['p_val'])"
      ]
    }
  ],
  "metadata": {
    "colab": {
      "provenance": []
    },
    "kernelspec": {
      "display_name": "mlops-drift",
      "language": "python",
      "name": "python3"
    },
    "language_info": {
      "codemirror_mode": {
        "name": "ipython",
        "version": 3
      },
      "file_extension": ".py",
      "mimetype": "text/x-python",
      "name": "python",
      "nbconvert_exporter": "python",
      "pygments_lexer": "ipython3",
      "version": "3.8.15"
    }
  },
  "nbformat": 4,
  "nbformat_minor": 0
}
